{
 "cells": [
  {
   "cell_type": "code",
   "execution_count": 1,
   "metadata": {},
   "outputs": [],
   "source": [
    "import numpy as np\n",
    "import quantum as q\n",
    "import matplotlib.pyplot as plt\n",
    "from math import sqrt\n",
    "from tqdm import trange"
   ]
  },
  {
   "cell_type": "code",
   "execution_count": 2,
   "metadata": {},
   "outputs": [],
   "source": [
    "number_of_states = 10**4\n",
    "number_of_projections = 10**4\n",
    "bins = 1000\n",
    "d = 2"
   ]
  },
  {
   "cell_type": "code",
   "execution_count": 3,
   "metadata": {},
   "outputs": [],
   "source": [
    "p = []\n",
    "neg = []\n",
    "\n",
    "count = 0\n",
    "psi = np.zeros(d**2, dtype = complex)\n",
    "psi[np.random.randint(d**2) - 1] = 1\n",
    "rho = np.outer(psi, psi.conj())"
   ]
  },
  {
   "cell_type": "markdown",
   "metadata": {},
   "source": [
    "`V` determines the initial state, whereas `U` determines the projection basis"
   ]
  },
  {
   "cell_type": "markdown",
   "metadata": {},
   "source": [
    "`test_state` samples a random state from Haar measure by picking a random unitary `V`. The random state $|\\phi\\rangle$ is given by $|\\phi\\rangle = V |\\psi\\rangle$.\n",
    "\n",
    "`test_proj` projects the given state $|\\phi\\rangle$ onto a random basis defined by `U` and returns the negativity of the post measurement state.\n",
    "\n",
    "`test_state` then return samples from $P(N_f | \\phi)$."
   ]
  },
  {
   "cell_type": "code",
   "execution_count": 4,
   "metadata": {},
   "outputs": [],
   "source": [
    "def test_state(i):\n",
    "    V = q.randu(d**2)\n",
    "    def test_proj(j):\n",
    "        U = q.randu(d**2)\n",
    "        rho_post = (\n",
    "            U.conj().transpose()\n",
    "            @np.diag((U@V@rho@V.conj().transpose()@U.conj().transpose()).diagonal())\n",
    "            @U\n",
    "        )\n",
    "        \n",
    "        return q.negativity(rho_post, [d, d], [0, 1])\n",
    "    \n",
    "    return [test_proj(j) for j in range(number_of_projections)]"
   ]
  },
  {
   "cell_type": "code",
   "execution_count": 5,
   "metadata": {},
   "outputs": [],
   "source": [
    "def statistical_distance(p, q):\n",
    "    if (len(p) != len(q)):\n",
    "        print('p and q are not of the same length')\n",
    "        return None\n",
    "    return 0.5*sum([abs(p[i] - q[i]) for i in range(len(p))])"
   ]
  },
  {
   "cell_type": "code",
   "execution_count": 6,
   "metadata": {},
   "outputs": [
    {
     "name": "stderr",
     "output_type": "stream",
     "text": [
      "100%|██████████| 10000/10000 [6:02:16<00:00,  2.01s/it]  \n"
     ]
    }
   ],
   "source": [
    "neg = [test_state(i) for i in trange(number_of_states)]"
   ]
  },
  {
   "cell_type": "code",
   "execution_count": 7,
   "metadata": {},
   "outputs": [],
   "source": [
    "mean_distribution, _ = np.histogram(np.concatenate(neg), bins = bins, range = (-1e-3, (d-1)/2))\n",
    "mean_distribution = mean_distribution/(number_of_states*number_of_projections)"
   ]
  },
  {
   "cell_type": "code",
   "execution_count": 8,
   "metadata": {},
   "outputs": [
    {
     "name": "stdout",
     "output_type": "stream",
     "text": [
      "d 2\n",
      "number of states 10000\n",
      "number of projections 10000\n",
      "bins 1000\n",
      "average distance 0.06109950237299993\n"
     ]
    }
   ],
   "source": [
    "distances = []\n",
    "ps = []\n",
    "\n",
    "for neg_i in neg:\n",
    "    p = np.histogram(neg_i, bins = bins, range = (-1e-3, (d-1)/2))[0]\n",
    "    p = p/number_of_projections\n",
    "    ps.append(p)\n",
    "    distances.append(statistical_distance(p, mean_distribution))\n",
    "    \n",
    "print('d', d)\n",
    "print('number of states', number_of_states)\n",
    "print('number of projections', number_of_projections)\n",
    "print('bins', bins)\n",
    "print('average distance {}'.format(sum(distances)/len(distances)))"
   ]
  }
 ],
 "metadata": {
  "kernelspec": {
   "display_name": "Python playground",
   "language": "python",
   "name": "playground"
  },
  "language_info": {
   "codemirror_mode": {
    "name": "ipython",
    "version": 3
   },
   "file_extension": ".py",
   "mimetype": "text/x-python",
   "name": "python",
   "nbconvert_exporter": "python",
   "pygments_lexer": "ipython3",
   "version": "3.7.0"
  },
  "notify_time": "30"
 },
 "nbformat": 4,
 "nbformat_minor": 2
}
